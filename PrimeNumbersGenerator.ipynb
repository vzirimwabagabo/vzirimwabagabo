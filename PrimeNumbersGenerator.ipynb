{
  "nbformat": 4,
  "nbformat_minor": 0,
  "metadata": {
    "colab": {
      "provenance": [],
      "authorship_tag": "ABX9TyMWpE9hF/MDEe9LE7Z2ySIW",
      "include_colab_link": true
    },
    "kernelspec": {
      "name": "python3",
      "display_name": "Python 3"
    },
    "language_info": {
      "name": "python"
    }
  },
  "cells": [
    {
      "cell_type": "markdown",
      "metadata": {
        "id": "view-in-github",
        "colab_type": "text"
      },
      "source": [
        "<a href=\"https://colab.research.google.com/github/vzirimwabagabo/vzirimwabagabo/blob/main/PrimeNumbersGenerator.ipynb\" target=\"_parent\"><img src=\"https://colab.research.google.com/assets/colab-badge.svg\" alt=\"Open In Colab\"/></a>"
      ]
    },
    {
      "cell_type": "code",
      "execution_count": 1,
      "metadata": {
        "colab": {
          "base_uri": "https://localhost:8080/"
        },
        "id": "OnxcH9seB2gK",
        "outputId": "9097a4a0-2582-4b08-cad0-3dee69a2279a"
      },
      "outputs": [
        {
          "output_type": "stream",
          "name": "stdout",
          "text": [
            "Enter the lower bound: 45\n",
            "Enter the upper bound: 70\n",
            "Selected prime numbers:\n",
            "p = 61\n",
            "q = 53\n"
          ]
        }
      ],
      "source": [
        "import random\n",
        "import math\n",
        "\n",
        "\n",
        "lower_bound = int(input(\"Enter the lower bound: \"))\n",
        "upper_bound = int(input(\"Enter the upper bound: \"))\n",
        "class PrimeGenerator:\n",
        "    def __init__(self, lower_bound, upper_bound):\n",
        "        self.lower_bound = lower_bound\n",
        "        self.upper_bound = upper_bound\n",
        "\n",
        "    def is_prime(self, n):\n",
        "       # Check if a number is prime.\n",
        "        if n < 2:\n",
        "            return False\n",
        "        if n == 2:\n",
        "            return True\n",
        "        if n % 2 == 0:\n",
        "            return False\n",
        "        sqrt_n = int(math.sqrt(n)) + 1\n",
        "        for i in range(3, sqrt_n, 2):\n",
        "            if n % i == 0:\n",
        "                return False\n",
        "        return True\n",
        "\n",
        "    def generate_primes_in_range(self):\n",
        "        #Generate a list of prime numbers in the given range.\n",
        "        primes = []\n",
        "        for num in range(self.lower_bound, self.upper_bound + 1):\n",
        "            if self.is_prime(num):\n",
        "                primes.append(num)\n",
        "        return primes\n",
        "\n",
        "    def select_p_and_q(self):\n",
        "        # Randomly select two distinct prime numbers from the list.\n",
        "        primes = self.generate_primes_in_range()\n",
        "        if len(primes) < 2:\n",
        "            raise ValueError(\"Not enough prime numbers in the given range.\")\n",
        "\n",
        "        p = random.choice(primes)\n",
        "        q = random.choice(primes)\n",
        "\n",
        "        # Ensure p != q\n",
        "        while q == p:\n",
        "            q = random.choice(primes)\n",
        "\n",
        "        return p, q\n",
        "\n",
        "# Main Program Execution\n",
        "if __name__ == \"__main__\":\n",
        "    # Create an instance of PrimeGenerator with a customizable range\n",
        "    prime_gen = PrimeGenerator(lower_bound, upper_bound)\n",
        "\n",
        "    try:\n",
        "        p, q = prime_gen.select_p_and_q()\n",
        "        print(f\"Selected prime numbers:\")\n",
        "        print(f\"p = {p}\")\n",
        "        print(f\"q = {q}\")\n",
        "    except ValueError as e:\n",
        "        print(e)"
      ]
    }
  ]
}